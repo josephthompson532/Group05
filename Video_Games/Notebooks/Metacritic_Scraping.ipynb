{
 "cells": [
  {
   "cell_type": "code",
   "execution_count": 1,
   "metadata": {},
   "outputs": [],
   "source": [
    "import pandas as pd\n",
    "from splinter import Browser\n",
    "from bs4 import BeautifulSoup as soup\n",
    "import lxml\n",
    "from bs4 import NavigableString\n",
    "import re"
   ]
  },
  {
   "cell_type": "code",
   "execution_count": 2,
   "metadata": {},
   "outputs": [],
   "source": [
    "# Must gather rating data for all the games without data in the ratings_df in the exploratory analysis notebook.\n",
    "# Must gather positive, neutral, and negative ratings numbers for both users and critics as well as the\n",
    "# metascore and userscore"
   ]
  },
  {
   "cell_type": "code",
   "execution_count": 3,
   "metadata": {},
   "outputs": [],
   "source": [
    "no_rating_df = pd.read_csv(\"../Resources/games_to_get_ratings.csv\")"
   ]
  },
  {
   "cell_type": "code",
   "execution_count": 4,
   "metadata": {},
   "outputs": [
    {
     "name": "stdout",
     "output_type": "stream",
     "text": [
      "/usr/local/bin/chromedriver\r\n"
     ]
    }
   ],
   "source": [
    "!which chromedriver"
   ]
  },
  {
   "cell_type": "code",
   "execution_count": 44,
   "metadata": {},
   "outputs": [],
   "source": [
    "browser = Browser(\"chrome\", executable_path=\"/usr/local/bin/chromedriver\", headless=True)"
   ]
  },
  {
   "cell_type": "code",
   "execution_count": 6,
   "metadata": {},
   "outputs": [],
   "source": [
    "games_df = pd.read_csv(\"../Resources/vgsales.csv.zip\")\n",
    "list_of_games = games_df[\"Name\"].values.tolist()"
   ]
  },
  {
   "cell_type": "code",
   "execution_count": null,
   "metadata": {},
   "outputs": [],
   "source": [
    "# Grabbing the Metascore\n",
    "\n",
    "game_scores = {}\n",
    "problem_games = []\n",
    "\n",
    "for game in [\"Super Smash Bros.\"]:\n",
    "    browser.visit(\"https://www.metacritic.com/\")\n",
    "    # fill in my search term to the Metacritic Browser and us \"\\n\" to press \"enter\" and initialize search\n",
    "    browser.fill(\"search_term\", game + \"\\n\")\n",
    "    html= browser.html\n",
    "    my_soup = soup(html, \"lxml\")\n",
    "    try:\n",
    "        metascore = my_soup.find(\"a\", class_=\"metascore_anchor\").get_text()\n",
    "        game_scores[game]= metascore\n",
    "        print(\"SUCCESSFUL\")\n",
    "    except:\n",
    "        problem_games.append(game)\n",
    "        print(\"THIS IS A PROBLEM CHILD\")"
   ]
  },
  {
   "cell_type": "code",
   "execution_count": 7,
   "metadata": {},
   "outputs": [
    {
     "ename": "NameError",
     "evalue": "name 'game_scores' is not defined",
     "output_type": "error",
     "traceback": [
      "\u001b[0;31m---------------------------------------------------------------------------\u001b[0m",
      "\u001b[0;31mNameError\u001b[0m                                 Traceback (most recent call last)",
      "\u001b[0;32m<ipython-input-7-7c54d2b357e9>\u001b[0m in \u001b[0;36m<module>\u001b[0;34m\u001b[0m\n\u001b[0;32m----> 1\u001b[0;31m \u001b[0mmy_df\u001b[0m \u001b[0;34m=\u001b[0m \u001b[0mpd\u001b[0m\u001b[0;34m.\u001b[0m\u001b[0mDataFrame\u001b[0m\u001b[0;34m(\u001b[0m\u001b[0mgame_scores\u001b[0m\u001b[0;34m,\u001b[0m \u001b[0mcolumns\u001b[0m\u001b[0;34m=\u001b[0m\u001b[0;34m[\u001b[0m\u001b[0;34m\"Name\"\u001b[0m\u001b[0;34m,\u001b[0m\u001b[0;34m\"Metascore\"\u001b[0m\u001b[0;34m]\u001b[0m\u001b[0;34m)\u001b[0m\u001b[0;34m\u001b[0m\u001b[0;34m\u001b[0m\u001b[0m\n\u001b[0m",
      "\u001b[0;31mNameError\u001b[0m: name 'game_scores' is not defined"
     ]
    }
   ],
   "source": [
    "my_df = pd.DataFrame(game_scores, columns=[\"Name\",\"Metascore\"])"
   ]
  },
  {
   "cell_type": "code",
   "execution_count": 8,
   "metadata": {},
   "outputs": [],
   "source": [
    "## Navigating to the correct page via the search bar using splinter is too slow. I will rewrite the code to manually \n",
    "# write in the url using string interpolation. \n",
    "# I will need to interpolate the correct console name as well into the url. Metacritics url structure is:\n",
    "# \"https://www.metacritic.com/game/{console}/{game}\""
   ]
  },
  {
   "cell_type": "code",
   "execution_count": 9,
   "metadata": {},
   "outputs": [],
   "source": [
    "# must change game names into the proper format to be interpolated into the URL.\n",
    "\n",
    "game_conversions= {\n",
    "    \"PSV\":\"playstation-vita\",\n",
    "    \"DC\":\"dreamcast\",\n",
    "    \"WiiU\":\"wii-u\",\n",
    "    \"GC\":\"gamecube\",\n",
    "    \"N64\":\"nintendo-64\",\n",
    "    \"XB\":\"xbox\",\n",
    "    \"PSP\":\"psp\",\n",
    "    \"PS4\":\"playstation-4\",\n",
    "    \"PS\": \"playstation\",\n",
    "    \"Wii\":\"wii\",\n",
    "    \"PS3\": \"playstation-3\",\n",
    "    \"PS2\":\"playstation-2\",\n",
    "    \"GBA\":\"game-boy-advance\",\n",
    "    \"DS\":\"ds\",\n",
    "    \"XB\":\"xbox\",\n",
    "    \"X360\":\"xbox-360\"\n",
    "}\n",
    "\n",
    "def convert_to_name(platform_abb):\n",
    "    if platform_abb in game_conversions:\n",
    "        full_platform= game_conversions[platform_abb]\n",
    "    else:\n",
    "        full_platform=\"other\"\n",
    "    return full_platform\n",
    "    "
   ]
  },
  {
   "cell_type": "code",
   "execution_count": 10,
   "metadata": {},
   "outputs": [],
   "source": [
    "# This actually shows that the vast majority of our data belongs to the consoles listed on metacritic, these \"legacy consoles\"\n",
    "# Get rid of those games which fall into the \"other\" category under full_platform_name\n",
    "games_df[\"full_platform_name\"]= games_df[\"Platform\"].map(convert_to_name)\n",
    "games_df = games_df.loc[games_df[\"full_platform_name\"]!=\"other\"]\n"
   ]
  },
  {
   "cell_type": "code",
   "execution_count": null,
   "metadata": {},
   "outputs": [],
   "source": [
    "# Grabbing the Metascore\n",
    "\n",
    "game_scores = {}\n",
    "problem_games = []\n",
    "\n",
    "\n",
    "# zip the two \n",
    "zipped_list =list(zip(games_df[\"full_platform_name\"].tolist(),games_df[\"Name\"].tolist()))\n",
    "\n",
    "for platform, name in zipped_list:\n",
    "    edited_game_title= name.lower().replace(\":\",\"-\").replace(\" \",\"-\").replace(\"\\W|\\s\",\"-\").replace(\"--\",\"-\")\n",
    "    browser.visit(f\"https://www.metacritic.com/game/{platform}/{edited_game_title}\")\n",
    "    # fill in my search term to the Metacritic Browser and us \"\\n\" to press \"enter\" and initialize search\n",
    "    \n",
    "    html= browser.html\n",
    "    my_soup = soup(html, \"lxml\")\n",
    "    try:\n",
    "        metascore = my_soup.find(\"a\", class_=\"metascore_anchor\").get_text()\n",
    "        game_scores[game]= metascore\n",
    "        print(\"SUCCESSFUL\")\n",
    "    except:\n",
    "        problem_games.append(game)\n",
    "        print(\"THIS IS A PROBLEM CHILD\")"
   ]
  },
  {
   "cell_type": "code",
   "execution_count": null,
   "metadata": {},
   "outputs": [],
   "source": [
    "# This worked pretty well, but I will alter the code further see if I can increase my scraping success to fail ratio"
   ]
  },
  {
   "cell_type": "code",
   "execution_count": null,
   "metadata": {},
   "outputs": [],
   "source": [
    "import re\n",
    "mystring = \"The Legend!of:Zelda; Breath of the wild\"\n",
    "x = re.compile(\"\\W|\\s\")\n",
    "mystring = re.sub(x,\"-\", mystring).lower().replace(\"--\",\"-\")\n",
    "mystring"
   ]
  },
  {
   "cell_type": "code",
   "execution_count": null,
   "metadata": {},
   "outputs": [],
   "source": [
    "# Grabbing the Metascore\n",
    "\n",
    "game_scores = {}\n",
    "problem_games = []\n",
    "counter = 1\n",
    "\n",
    "# zip the two \n",
    "zipped_list =list(zip(games_df[\"full_platform_name\"].tolist(),games_df[\"Name\"].tolist()))\n",
    "\n",
    "for platform, name in zipped_list:\n",
    "    x = re.compile(\"\\W|\\s\")\n",
    "    edited_game_title= re.sub(x,\"-\", name).lower().replace(\"--\",\"-\")\n",
    "    # periods at the end of the url will show up as a dash. This conditional is to get rid of it.\n",
    "    if edited_game_title[-1] == \"-\":\n",
    "        edited_game_title = edited_game_title[:-1]\n",
    "        print(edited_game_title)\n",
    "    else:\n",
    "        print(edited_game_title)\n",
    "    browser.visit(f\"https://www.metacritic.com/game/{platform}/{edited_game_title}\")\n",
    "    # fill in my search term to the Metacritic Browser and us \"\\n\" to press \"enter\" and initialize search\n",
    "    \n",
    "    html= browser.html\n",
    "    my_soup = soup(html, \"lxml\")\n",
    "    try:\n",
    "        metascore = my_soup.find(\"a\", class_=\"metascore_anchor\").get_text()\n",
    "        game_scores[game]= metascore\n",
    "        print(\"SUCCESSFUL\")\n",
    "        print(counter)\n",
    "        counter+=1\n",
    "    except:\n",
    "        problem_games.append(game)\n",
    "        print(\"THIS IS A PROBLEM CHILD\")\n",
    "        print(counter)\n",
    "        counter+=1"
   ]
  },
  {
   "cell_type": "code",
   "execution_count": 45,
   "metadata": {},
   "outputs": [
    {
     "name": "stdout",
     "output_type": "stream",
     "text": [
      "\n",
      "GAME TITLE: wii-sports\n",
      "SUCCESSFUL\n",
      "This is the 1th game in the list.\n",
      "\n",
      "GAME TITLE: mario-kart-wii\n",
      "SUCCESSFUL\n",
      "This is the 2th game in the list.\n",
      "\n",
      "GAME TITLE: wii-sports-resort\n",
      "SUCCESSFUL\n",
      "This is the 3th game in the list.\n",
      "\n",
      "GAME TITLE: new-super-mario-bros\n",
      "SUCCESSFUL\n",
      "This is the 4th game in the list.\n",
      "\n",
      "GAME TITLE: wii-play\n",
      "SUCCESSFUL\n",
      "This is the 5th game in the list.\n",
      "\n",
      "GAME TITLE: new-super-mario-bros-wii\n",
      "SUCCESSFUL\n",
      "This is the 6th game in the list.\n",
      "\n",
      "GAME TITLE: nintendogs\n",
      "THIS IS A PROBLEM CHILD\n",
      "\n",
      "GAME TITLE: mario-kart-ds\n",
      "SUCCESSFUL\n",
      "This is the 7th game in the list.\n",
      "\n",
      "GAME TITLE: wii-fit\n"
     ]
    },
    {
     "ename": "KeyboardInterrupt",
     "evalue": "",
     "output_type": "error",
     "traceback": [
      "\u001b[0;31m---------------------------------------------------------------------------\u001b[0m",
      "\u001b[0;31mKeyboardInterrupt\u001b[0m                         Traceback (most recent call last)",
      "\u001b[0;32m<ipython-input-45-6c58232480f1>\u001b[0m in \u001b[0;36m<module>\u001b[0;34m\u001b[0m\n\u001b[1;32m     17\u001b[0m     \u001b[0;32melse\u001b[0m\u001b[0;34m:\u001b[0m\u001b[0;34m\u001b[0m\u001b[0;34m\u001b[0m\u001b[0m\n\u001b[1;32m     18\u001b[0m         \u001b[0mprint\u001b[0m\u001b[0;34m(\u001b[0m\u001b[0;34mf\"\\nGAME TITLE: {edited_game_title}\"\u001b[0m\u001b[0;34m)\u001b[0m\u001b[0;34m\u001b[0m\u001b[0;34m\u001b[0m\u001b[0m\n\u001b[0;32m---> 19\u001b[0;31m     \u001b[0mbrowser\u001b[0m\u001b[0;34m.\u001b[0m\u001b[0mvisit\u001b[0m\u001b[0;34m(\u001b[0m\u001b[0;34mf\"https://www.metacritic.com/game/{platform}/{edited_game_title}\"\u001b[0m\u001b[0;34m)\u001b[0m\u001b[0;34m\u001b[0m\u001b[0;34m\u001b[0m\u001b[0m\n\u001b[0m\u001b[1;32m     20\u001b[0m     \u001b[0;31m# fill in my search term to the Metacritic Browser and us \"\\n\" to press \"enter\" and initialize search\u001b[0m\u001b[0;34m\u001b[0m\u001b[0;34m\u001b[0m\u001b[0;34m\u001b[0m\u001b[0m\n\u001b[1;32m     21\u001b[0m \u001b[0;34m\u001b[0m\u001b[0m\n",
      "\u001b[0;32m/opt/anaconda3/envs/PythonData/lib/python3.7/site-packages/splinter/driver/webdriver/__init__.py\u001b[0m in \u001b[0;36mvisit\u001b[0;34m(self, url)\u001b[0m\n\u001b[1;32m    285\u001b[0m \u001b[0;34m\u001b[0m\u001b[0m\n\u001b[1;32m    286\u001b[0m     \u001b[0;32mdef\u001b[0m \u001b[0mvisit\u001b[0m\u001b[0;34m(\u001b[0m\u001b[0mself\u001b[0m\u001b[0;34m,\u001b[0m \u001b[0murl\u001b[0m\u001b[0;34m)\u001b[0m\u001b[0;34m:\u001b[0m\u001b[0;34m\u001b[0m\u001b[0;34m\u001b[0m\u001b[0m\n\u001b[0;32m--> 287\u001b[0;31m         \u001b[0mself\u001b[0m\u001b[0;34m.\u001b[0m\u001b[0mdriver\u001b[0m\u001b[0;34m.\u001b[0m\u001b[0mget\u001b[0m\u001b[0;34m(\u001b[0m\u001b[0murl\u001b[0m\u001b[0;34m)\u001b[0m\u001b[0;34m\u001b[0m\u001b[0;34m\u001b[0m\u001b[0m\n\u001b[0m\u001b[1;32m    288\u001b[0m \u001b[0;34m\u001b[0m\u001b[0m\n\u001b[1;32m    289\u001b[0m     \u001b[0;32mdef\u001b[0m \u001b[0mback\u001b[0m\u001b[0;34m(\u001b[0m\u001b[0mself\u001b[0m\u001b[0;34m)\u001b[0m\u001b[0;34m:\u001b[0m\u001b[0;34m\u001b[0m\u001b[0;34m\u001b[0m\u001b[0m\n",
      "\u001b[0;32m/opt/anaconda3/envs/PythonData/lib/python3.7/site-packages/selenium/webdriver/remote/webdriver.py\u001b[0m in \u001b[0;36mget\u001b[0;34m(self, url)\u001b[0m\n\u001b[1;32m    331\u001b[0m         \u001b[0mLoads\u001b[0m \u001b[0ma\u001b[0m \u001b[0mweb\u001b[0m \u001b[0mpage\u001b[0m \u001b[0;32min\u001b[0m \u001b[0mthe\u001b[0m \u001b[0mcurrent\u001b[0m \u001b[0mbrowser\u001b[0m \u001b[0msession\u001b[0m\u001b[0;34m.\u001b[0m\u001b[0;34m\u001b[0m\u001b[0;34m\u001b[0m\u001b[0m\n\u001b[1;32m    332\u001b[0m         \"\"\"\n\u001b[0;32m--> 333\u001b[0;31m         \u001b[0mself\u001b[0m\u001b[0;34m.\u001b[0m\u001b[0mexecute\u001b[0m\u001b[0;34m(\u001b[0m\u001b[0mCommand\u001b[0m\u001b[0;34m.\u001b[0m\u001b[0mGET\u001b[0m\u001b[0;34m,\u001b[0m \u001b[0;34m{\u001b[0m\u001b[0;34m'url'\u001b[0m\u001b[0;34m:\u001b[0m \u001b[0murl\u001b[0m\u001b[0;34m}\u001b[0m\u001b[0;34m)\u001b[0m\u001b[0;34m\u001b[0m\u001b[0;34m\u001b[0m\u001b[0m\n\u001b[0m\u001b[1;32m    334\u001b[0m \u001b[0;34m\u001b[0m\u001b[0m\n\u001b[1;32m    335\u001b[0m     \u001b[0;34m@\u001b[0m\u001b[0mproperty\u001b[0m\u001b[0;34m\u001b[0m\u001b[0;34m\u001b[0m\u001b[0m\n",
      "\u001b[0;32m/opt/anaconda3/envs/PythonData/lib/python3.7/site-packages/selenium/webdriver/remote/webdriver.py\u001b[0m in \u001b[0;36mexecute\u001b[0;34m(self, driver_command, params)\u001b[0m\n\u001b[1;32m    317\u001b[0m \u001b[0;34m\u001b[0m\u001b[0m\n\u001b[1;32m    318\u001b[0m         \u001b[0mparams\u001b[0m \u001b[0;34m=\u001b[0m \u001b[0mself\u001b[0m\u001b[0;34m.\u001b[0m\u001b[0m_wrap_value\u001b[0m\u001b[0;34m(\u001b[0m\u001b[0mparams\u001b[0m\u001b[0;34m)\u001b[0m\u001b[0;34m\u001b[0m\u001b[0;34m\u001b[0m\u001b[0m\n\u001b[0;32m--> 319\u001b[0;31m         \u001b[0mresponse\u001b[0m \u001b[0;34m=\u001b[0m \u001b[0mself\u001b[0m\u001b[0;34m.\u001b[0m\u001b[0mcommand_executor\u001b[0m\u001b[0;34m.\u001b[0m\u001b[0mexecute\u001b[0m\u001b[0;34m(\u001b[0m\u001b[0mdriver_command\u001b[0m\u001b[0;34m,\u001b[0m \u001b[0mparams\u001b[0m\u001b[0;34m)\u001b[0m\u001b[0;34m\u001b[0m\u001b[0;34m\u001b[0m\u001b[0m\n\u001b[0m\u001b[1;32m    320\u001b[0m         \u001b[0;32mif\u001b[0m \u001b[0mresponse\u001b[0m\u001b[0;34m:\u001b[0m\u001b[0;34m\u001b[0m\u001b[0;34m\u001b[0m\u001b[0m\n\u001b[1;32m    321\u001b[0m             \u001b[0mself\u001b[0m\u001b[0;34m.\u001b[0m\u001b[0merror_handler\u001b[0m\u001b[0;34m.\u001b[0m\u001b[0mcheck_response\u001b[0m\u001b[0;34m(\u001b[0m\u001b[0mresponse\u001b[0m\u001b[0;34m)\u001b[0m\u001b[0;34m\u001b[0m\u001b[0;34m\u001b[0m\u001b[0m\n",
      "\u001b[0;32m/opt/anaconda3/envs/PythonData/lib/python3.7/site-packages/selenium/webdriver/remote/remote_connection.py\u001b[0m in \u001b[0;36mexecute\u001b[0;34m(self, command, params)\u001b[0m\n\u001b[1;32m    372\u001b[0m         \u001b[0mdata\u001b[0m \u001b[0;34m=\u001b[0m \u001b[0mutils\u001b[0m\u001b[0;34m.\u001b[0m\u001b[0mdump_json\u001b[0m\u001b[0;34m(\u001b[0m\u001b[0mparams\u001b[0m\u001b[0;34m)\u001b[0m\u001b[0;34m\u001b[0m\u001b[0;34m\u001b[0m\u001b[0m\n\u001b[1;32m    373\u001b[0m         \u001b[0murl\u001b[0m \u001b[0;34m=\u001b[0m \u001b[0;34m'%s%s'\u001b[0m \u001b[0;34m%\u001b[0m \u001b[0;34m(\u001b[0m\u001b[0mself\u001b[0m\u001b[0;34m.\u001b[0m\u001b[0m_url\u001b[0m\u001b[0;34m,\u001b[0m \u001b[0mpath\u001b[0m\u001b[0;34m)\u001b[0m\u001b[0;34m\u001b[0m\u001b[0;34m\u001b[0m\u001b[0m\n\u001b[0;32m--> 374\u001b[0;31m         \u001b[0;32mreturn\u001b[0m \u001b[0mself\u001b[0m\u001b[0;34m.\u001b[0m\u001b[0m_request\u001b[0m\u001b[0;34m(\u001b[0m\u001b[0mcommand_info\u001b[0m\u001b[0;34m[\u001b[0m\u001b[0;36m0\u001b[0m\u001b[0;34m]\u001b[0m\u001b[0;34m,\u001b[0m \u001b[0murl\u001b[0m\u001b[0;34m,\u001b[0m \u001b[0mbody\u001b[0m\u001b[0;34m=\u001b[0m\u001b[0mdata\u001b[0m\u001b[0;34m)\u001b[0m\u001b[0;34m\u001b[0m\u001b[0;34m\u001b[0m\u001b[0m\n\u001b[0m\u001b[1;32m    375\u001b[0m \u001b[0;34m\u001b[0m\u001b[0m\n\u001b[1;32m    376\u001b[0m     \u001b[0;32mdef\u001b[0m \u001b[0m_request\u001b[0m\u001b[0;34m(\u001b[0m\u001b[0mself\u001b[0m\u001b[0;34m,\u001b[0m \u001b[0mmethod\u001b[0m\u001b[0;34m,\u001b[0m \u001b[0murl\u001b[0m\u001b[0;34m,\u001b[0m \u001b[0mbody\u001b[0m\u001b[0;34m=\u001b[0m\u001b[0;32mNone\u001b[0m\u001b[0;34m)\u001b[0m\u001b[0;34m:\u001b[0m\u001b[0;34m\u001b[0m\u001b[0;34m\u001b[0m\u001b[0m\n",
      "\u001b[0;32m/opt/anaconda3/envs/PythonData/lib/python3.7/site-packages/splinter/driver/webdriver/remote_connection.py\u001b[0m in \u001b[0;36mpatch_request\u001b[0;34m(self, *args, **kwargs)\u001b[0m\n\u001b[1;32m     21\u001b[0m     \u001b[0;32mfor\u001b[0m \u001b[0m_\u001b[0m \u001b[0;32min\u001b[0m \u001b[0mrange\u001b[0m\u001b[0;34m(\u001b[0m\u001b[0;36m3\u001b[0m\u001b[0;34m)\u001b[0m\u001b[0;34m:\u001b[0m\u001b[0;34m\u001b[0m\u001b[0;34m\u001b[0m\u001b[0m\n\u001b[1;32m     22\u001b[0m         \u001b[0;32mtry\u001b[0m\u001b[0;34m:\u001b[0m\u001b[0;34m\u001b[0m\u001b[0;34m\u001b[0m\u001b[0m\n\u001b[0;32m---> 23\u001b[0;31m             \u001b[0;32mreturn\u001b[0m \u001b[0mold_request\u001b[0m\u001b[0;34m(\u001b[0m\u001b[0mself\u001b[0m\u001b[0;34m,\u001b[0m \u001b[0;34m*\u001b[0m\u001b[0margs\u001b[0m\u001b[0;34m,\u001b[0m \u001b[0;34m**\u001b[0m\u001b[0mkwargs\u001b[0m\u001b[0;34m)\u001b[0m\u001b[0;34m\u001b[0m\u001b[0;34m\u001b[0m\u001b[0m\n\u001b[0m\u001b[1;32m     24\u001b[0m         \u001b[0;32mexcept\u001b[0m \u001b[0;34m(\u001b[0m\u001b[0msocket\u001b[0m\u001b[0;34m.\u001b[0m\u001b[0merror\u001b[0m\u001b[0;34m,\u001b[0m \u001b[0mHTTPException\u001b[0m\u001b[0;34m,\u001b[0m \u001b[0mIOError\u001b[0m\u001b[0;34m,\u001b[0m \u001b[0mOSError\u001b[0m\u001b[0;34m,\u001b[0m \u001b[0mMaxRetryError\u001b[0m\u001b[0;34m)\u001b[0m \u001b[0;32mas\u001b[0m \u001b[0mexc\u001b[0m\u001b[0;34m:\u001b[0m\u001b[0;34m\u001b[0m\u001b[0;34m\u001b[0m\u001b[0m\n\u001b[1;32m     25\u001b[0m             \u001b[0mexception\u001b[0m \u001b[0;34m=\u001b[0m \u001b[0mexc\u001b[0m\u001b[0;34m\u001b[0m\u001b[0;34m\u001b[0m\u001b[0m\n",
      "\u001b[0;32m/opt/anaconda3/envs/PythonData/lib/python3.7/site-packages/selenium/webdriver/remote/remote_connection.py\u001b[0m in \u001b[0;36m_request\u001b[0;34m(self, method, url, body)\u001b[0m\n\u001b[1;32m    395\u001b[0m \u001b[0;34m\u001b[0m\u001b[0m\n\u001b[1;32m    396\u001b[0m         \u001b[0;32mif\u001b[0m \u001b[0mself\u001b[0m\u001b[0;34m.\u001b[0m\u001b[0mkeep_alive\u001b[0m\u001b[0;34m:\u001b[0m\u001b[0;34m\u001b[0m\u001b[0;34m\u001b[0m\u001b[0m\n\u001b[0;32m--> 397\u001b[0;31m             \u001b[0mresp\u001b[0m \u001b[0;34m=\u001b[0m \u001b[0mself\u001b[0m\u001b[0;34m.\u001b[0m\u001b[0m_conn\u001b[0m\u001b[0;34m.\u001b[0m\u001b[0mrequest\u001b[0m\u001b[0;34m(\u001b[0m\u001b[0mmethod\u001b[0m\u001b[0;34m,\u001b[0m \u001b[0murl\u001b[0m\u001b[0;34m,\u001b[0m \u001b[0mbody\u001b[0m\u001b[0;34m=\u001b[0m\u001b[0mbody\u001b[0m\u001b[0;34m,\u001b[0m \u001b[0mheaders\u001b[0m\u001b[0;34m=\u001b[0m\u001b[0mheaders\u001b[0m\u001b[0;34m)\u001b[0m\u001b[0;34m\u001b[0m\u001b[0;34m\u001b[0m\u001b[0m\n\u001b[0m\u001b[1;32m    398\u001b[0m \u001b[0;34m\u001b[0m\u001b[0m\n\u001b[1;32m    399\u001b[0m             \u001b[0mstatuscode\u001b[0m \u001b[0;34m=\u001b[0m \u001b[0mresp\u001b[0m\u001b[0;34m.\u001b[0m\u001b[0mstatus\u001b[0m\u001b[0;34m\u001b[0m\u001b[0;34m\u001b[0m\u001b[0m\n",
      "\u001b[0;32m/opt/anaconda3/envs/PythonData/lib/python3.7/site-packages/urllib3/request.py\u001b[0m in \u001b[0;36mrequest\u001b[0;34m(self, method, url, fields, headers, **urlopen_kw)\u001b[0m\n\u001b[1;32m     78\u001b[0m         \u001b[0;32melse\u001b[0m\u001b[0;34m:\u001b[0m\u001b[0;34m\u001b[0m\u001b[0;34m\u001b[0m\u001b[0m\n\u001b[1;32m     79\u001b[0m             return self.request_encode_body(\n\u001b[0;32m---> 80\u001b[0;31m                 \u001b[0mmethod\u001b[0m\u001b[0;34m,\u001b[0m \u001b[0murl\u001b[0m\u001b[0;34m,\u001b[0m \u001b[0mfields\u001b[0m\u001b[0;34m=\u001b[0m\u001b[0mfields\u001b[0m\u001b[0;34m,\u001b[0m \u001b[0mheaders\u001b[0m\u001b[0;34m=\u001b[0m\u001b[0mheaders\u001b[0m\u001b[0;34m,\u001b[0m \u001b[0;34m**\u001b[0m\u001b[0murlopen_kw\u001b[0m\u001b[0;34m\u001b[0m\u001b[0;34m\u001b[0m\u001b[0m\n\u001b[0m\u001b[1;32m     81\u001b[0m             )\n\u001b[1;32m     82\u001b[0m \u001b[0;34m\u001b[0m\u001b[0m\n",
      "\u001b[0;32m/opt/anaconda3/envs/PythonData/lib/python3.7/site-packages/urllib3/request.py\u001b[0m in \u001b[0;36mrequest_encode_body\u001b[0;34m(self, method, url, fields, headers, encode_multipart, multipart_boundary, **urlopen_kw)\u001b[0m\n\u001b[1;32m    169\u001b[0m         \u001b[0mextra_kw\u001b[0m\u001b[0;34m.\u001b[0m\u001b[0mupdate\u001b[0m\u001b[0;34m(\u001b[0m\u001b[0murlopen_kw\u001b[0m\u001b[0;34m)\u001b[0m\u001b[0;34m\u001b[0m\u001b[0;34m\u001b[0m\u001b[0m\n\u001b[1;32m    170\u001b[0m \u001b[0;34m\u001b[0m\u001b[0m\n\u001b[0;32m--> 171\u001b[0;31m         \u001b[0;32mreturn\u001b[0m \u001b[0mself\u001b[0m\u001b[0;34m.\u001b[0m\u001b[0murlopen\u001b[0m\u001b[0;34m(\u001b[0m\u001b[0mmethod\u001b[0m\u001b[0;34m,\u001b[0m \u001b[0murl\u001b[0m\u001b[0;34m,\u001b[0m \u001b[0;34m**\u001b[0m\u001b[0mextra_kw\u001b[0m\u001b[0;34m)\u001b[0m\u001b[0;34m\u001b[0m\u001b[0;34m\u001b[0m\u001b[0m\n\u001b[0m",
      "\u001b[0;32m/opt/anaconda3/envs/PythonData/lib/python3.7/site-packages/urllib3/poolmanager.py\u001b[0m in \u001b[0;36murlopen\u001b[0;34m(self, method, url, redirect, **kw)\u001b[0m\n\u001b[1;32m    334\u001b[0m             \u001b[0mresponse\u001b[0m \u001b[0;34m=\u001b[0m \u001b[0mconn\u001b[0m\u001b[0;34m.\u001b[0m\u001b[0murlopen\u001b[0m\u001b[0;34m(\u001b[0m\u001b[0mmethod\u001b[0m\u001b[0;34m,\u001b[0m \u001b[0murl\u001b[0m\u001b[0;34m,\u001b[0m \u001b[0;34m**\u001b[0m\u001b[0mkw\u001b[0m\u001b[0;34m)\u001b[0m\u001b[0;34m\u001b[0m\u001b[0;34m\u001b[0m\u001b[0m\n\u001b[1;32m    335\u001b[0m         \u001b[0;32melse\u001b[0m\u001b[0;34m:\u001b[0m\u001b[0;34m\u001b[0m\u001b[0;34m\u001b[0m\u001b[0m\n\u001b[0;32m--> 336\u001b[0;31m             \u001b[0mresponse\u001b[0m \u001b[0;34m=\u001b[0m \u001b[0mconn\u001b[0m\u001b[0;34m.\u001b[0m\u001b[0murlopen\u001b[0m\u001b[0;34m(\u001b[0m\u001b[0mmethod\u001b[0m\u001b[0;34m,\u001b[0m \u001b[0mu\u001b[0m\u001b[0;34m.\u001b[0m\u001b[0mrequest_uri\u001b[0m\u001b[0;34m,\u001b[0m \u001b[0;34m**\u001b[0m\u001b[0mkw\u001b[0m\u001b[0;34m)\u001b[0m\u001b[0;34m\u001b[0m\u001b[0;34m\u001b[0m\u001b[0m\n\u001b[0m\u001b[1;32m    337\u001b[0m \u001b[0;34m\u001b[0m\u001b[0m\n\u001b[1;32m    338\u001b[0m         \u001b[0mredirect_location\u001b[0m \u001b[0;34m=\u001b[0m \u001b[0mredirect\u001b[0m \u001b[0;32mand\u001b[0m \u001b[0mresponse\u001b[0m\u001b[0;34m.\u001b[0m\u001b[0mget_redirect_location\u001b[0m\u001b[0;34m(\u001b[0m\u001b[0;34m)\u001b[0m\u001b[0;34m\u001b[0m\u001b[0;34m\u001b[0m\u001b[0m\n",
      "\u001b[0;32m/opt/anaconda3/envs/PythonData/lib/python3.7/site-packages/urllib3/connectionpool.py\u001b[0m in \u001b[0;36murlopen\u001b[0;34m(self, method, url, body, headers, retries, redirect, assert_same_host, timeout, pool_timeout, release_conn, chunked, body_pos, **response_kw)\u001b[0m\n\u001b[1;32m    675\u001b[0m                 \u001b[0mbody\u001b[0m\u001b[0;34m=\u001b[0m\u001b[0mbody\u001b[0m\u001b[0;34m,\u001b[0m\u001b[0;34m\u001b[0m\u001b[0;34m\u001b[0m\u001b[0m\n\u001b[1;32m    676\u001b[0m                 \u001b[0mheaders\u001b[0m\u001b[0;34m=\u001b[0m\u001b[0mheaders\u001b[0m\u001b[0;34m,\u001b[0m\u001b[0;34m\u001b[0m\u001b[0;34m\u001b[0m\u001b[0m\n\u001b[0;32m--> 677\u001b[0;31m                 \u001b[0mchunked\u001b[0m\u001b[0;34m=\u001b[0m\u001b[0mchunked\u001b[0m\u001b[0;34m,\u001b[0m\u001b[0;34m\u001b[0m\u001b[0;34m\u001b[0m\u001b[0m\n\u001b[0m\u001b[1;32m    678\u001b[0m             )\n\u001b[1;32m    679\u001b[0m \u001b[0;34m\u001b[0m\u001b[0m\n",
      "\u001b[0;32m/opt/anaconda3/envs/PythonData/lib/python3.7/site-packages/urllib3/connectionpool.py\u001b[0m in \u001b[0;36m_make_request\u001b[0;34m(self, conn, method, url, timeout, chunked, **httplib_request_kw)\u001b[0m\n\u001b[1;32m    424\u001b[0m                     \u001b[0;31m# Python 3 (including for exceptions like SystemExit).\u001b[0m\u001b[0;34m\u001b[0m\u001b[0;34m\u001b[0m\u001b[0;34m\u001b[0m\u001b[0m\n\u001b[1;32m    425\u001b[0m                     \u001b[0;31m# Otherwise it looks like a bug in the code.\u001b[0m\u001b[0;34m\u001b[0m\u001b[0;34m\u001b[0m\u001b[0;34m\u001b[0m\u001b[0m\n\u001b[0;32m--> 426\u001b[0;31m                     \u001b[0msix\u001b[0m\u001b[0;34m.\u001b[0m\u001b[0mraise_from\u001b[0m\u001b[0;34m(\u001b[0m\u001b[0me\u001b[0m\u001b[0;34m,\u001b[0m \u001b[0;32mNone\u001b[0m\u001b[0;34m)\u001b[0m\u001b[0;34m\u001b[0m\u001b[0;34m\u001b[0m\u001b[0m\n\u001b[0m\u001b[1;32m    427\u001b[0m         \u001b[0;32mexcept\u001b[0m \u001b[0;34m(\u001b[0m\u001b[0mSocketTimeout\u001b[0m\u001b[0;34m,\u001b[0m \u001b[0mBaseSSLError\u001b[0m\u001b[0;34m,\u001b[0m \u001b[0mSocketError\u001b[0m\u001b[0;34m)\u001b[0m \u001b[0;32mas\u001b[0m \u001b[0me\u001b[0m\u001b[0;34m:\u001b[0m\u001b[0;34m\u001b[0m\u001b[0;34m\u001b[0m\u001b[0m\n\u001b[1;32m    428\u001b[0m             \u001b[0mself\u001b[0m\u001b[0;34m.\u001b[0m\u001b[0m_raise_timeout\u001b[0m\u001b[0;34m(\u001b[0m\u001b[0merr\u001b[0m\u001b[0;34m=\u001b[0m\u001b[0me\u001b[0m\u001b[0;34m,\u001b[0m \u001b[0murl\u001b[0m\u001b[0;34m=\u001b[0m\u001b[0murl\u001b[0m\u001b[0;34m,\u001b[0m \u001b[0mtimeout_value\u001b[0m\u001b[0;34m=\u001b[0m\u001b[0mread_timeout\u001b[0m\u001b[0;34m)\u001b[0m\u001b[0;34m\u001b[0m\u001b[0;34m\u001b[0m\u001b[0m\n",
      "\u001b[0;32m/opt/anaconda3/envs/PythonData/lib/python3.7/site-packages/urllib3/packages/six.py\u001b[0m in \u001b[0;36mraise_from\u001b[0;34m(value, from_value)\u001b[0m\n",
      "\u001b[0;32m/opt/anaconda3/envs/PythonData/lib/python3.7/site-packages/urllib3/connectionpool.py\u001b[0m in \u001b[0;36m_make_request\u001b[0;34m(self, conn, method, url, timeout, chunked, **httplib_request_kw)\u001b[0m\n\u001b[1;32m    419\u001b[0m                 \u001b[0;31m# Python 3\u001b[0m\u001b[0;34m\u001b[0m\u001b[0;34m\u001b[0m\u001b[0;34m\u001b[0m\u001b[0m\n\u001b[1;32m    420\u001b[0m                 \u001b[0;32mtry\u001b[0m\u001b[0;34m:\u001b[0m\u001b[0;34m\u001b[0m\u001b[0;34m\u001b[0m\u001b[0m\n\u001b[0;32m--> 421\u001b[0;31m                     \u001b[0mhttplib_response\u001b[0m \u001b[0;34m=\u001b[0m \u001b[0mconn\u001b[0m\u001b[0;34m.\u001b[0m\u001b[0mgetresponse\u001b[0m\u001b[0;34m(\u001b[0m\u001b[0;34m)\u001b[0m\u001b[0;34m\u001b[0m\u001b[0;34m\u001b[0m\u001b[0m\n\u001b[0m\u001b[1;32m    422\u001b[0m                 \u001b[0;32mexcept\u001b[0m \u001b[0mBaseException\u001b[0m \u001b[0;32mas\u001b[0m \u001b[0me\u001b[0m\u001b[0;34m:\u001b[0m\u001b[0;34m\u001b[0m\u001b[0;34m\u001b[0m\u001b[0m\n\u001b[1;32m    423\u001b[0m                     \u001b[0;31m# Remove the TypeError from the exception chain in\u001b[0m\u001b[0;34m\u001b[0m\u001b[0;34m\u001b[0m\u001b[0;34m\u001b[0m\u001b[0m\n",
      "\u001b[0;32m/opt/anaconda3/envs/PythonData/lib/python3.7/http/client.py\u001b[0m in \u001b[0;36mgetresponse\u001b[0;34m(self)\u001b[0m\n\u001b[1;32m   1342\u001b[0m         \u001b[0;32mtry\u001b[0m\u001b[0;34m:\u001b[0m\u001b[0;34m\u001b[0m\u001b[0;34m\u001b[0m\u001b[0m\n\u001b[1;32m   1343\u001b[0m             \u001b[0;32mtry\u001b[0m\u001b[0;34m:\u001b[0m\u001b[0;34m\u001b[0m\u001b[0;34m\u001b[0m\u001b[0m\n\u001b[0;32m-> 1344\u001b[0;31m                 \u001b[0mresponse\u001b[0m\u001b[0;34m.\u001b[0m\u001b[0mbegin\u001b[0m\u001b[0;34m(\u001b[0m\u001b[0;34m)\u001b[0m\u001b[0;34m\u001b[0m\u001b[0;34m\u001b[0m\u001b[0m\n\u001b[0m\u001b[1;32m   1345\u001b[0m             \u001b[0;32mexcept\u001b[0m \u001b[0mConnectionError\u001b[0m\u001b[0;34m:\u001b[0m\u001b[0;34m\u001b[0m\u001b[0;34m\u001b[0m\u001b[0m\n\u001b[1;32m   1346\u001b[0m                 \u001b[0mself\u001b[0m\u001b[0;34m.\u001b[0m\u001b[0mclose\u001b[0m\u001b[0;34m(\u001b[0m\u001b[0;34m)\u001b[0m\u001b[0;34m\u001b[0m\u001b[0;34m\u001b[0m\u001b[0m\n",
      "\u001b[0;32m/opt/anaconda3/envs/PythonData/lib/python3.7/http/client.py\u001b[0m in \u001b[0;36mbegin\u001b[0;34m(self)\u001b[0m\n\u001b[1;32m    304\u001b[0m         \u001b[0;31m# read until we get a non-100 response\u001b[0m\u001b[0;34m\u001b[0m\u001b[0;34m\u001b[0m\u001b[0;34m\u001b[0m\u001b[0m\n\u001b[1;32m    305\u001b[0m         \u001b[0;32mwhile\u001b[0m \u001b[0;32mTrue\u001b[0m\u001b[0;34m:\u001b[0m\u001b[0;34m\u001b[0m\u001b[0;34m\u001b[0m\u001b[0m\n\u001b[0;32m--> 306\u001b[0;31m             \u001b[0mversion\u001b[0m\u001b[0;34m,\u001b[0m \u001b[0mstatus\u001b[0m\u001b[0;34m,\u001b[0m \u001b[0mreason\u001b[0m \u001b[0;34m=\u001b[0m \u001b[0mself\u001b[0m\u001b[0;34m.\u001b[0m\u001b[0m_read_status\u001b[0m\u001b[0;34m(\u001b[0m\u001b[0;34m)\u001b[0m\u001b[0;34m\u001b[0m\u001b[0;34m\u001b[0m\u001b[0m\n\u001b[0m\u001b[1;32m    307\u001b[0m             \u001b[0;32mif\u001b[0m \u001b[0mstatus\u001b[0m \u001b[0;34m!=\u001b[0m \u001b[0mCONTINUE\u001b[0m\u001b[0;34m:\u001b[0m\u001b[0;34m\u001b[0m\u001b[0;34m\u001b[0m\u001b[0m\n\u001b[1;32m    308\u001b[0m                 \u001b[0;32mbreak\u001b[0m\u001b[0;34m\u001b[0m\u001b[0;34m\u001b[0m\u001b[0m\n",
      "\u001b[0;32m/opt/anaconda3/envs/PythonData/lib/python3.7/http/client.py\u001b[0m in \u001b[0;36m_read_status\u001b[0;34m(self)\u001b[0m\n\u001b[1;32m    265\u001b[0m \u001b[0;34m\u001b[0m\u001b[0m\n\u001b[1;32m    266\u001b[0m     \u001b[0;32mdef\u001b[0m \u001b[0m_read_status\u001b[0m\u001b[0;34m(\u001b[0m\u001b[0mself\u001b[0m\u001b[0;34m)\u001b[0m\u001b[0;34m:\u001b[0m\u001b[0;34m\u001b[0m\u001b[0;34m\u001b[0m\u001b[0m\n\u001b[0;32m--> 267\u001b[0;31m         \u001b[0mline\u001b[0m \u001b[0;34m=\u001b[0m \u001b[0mstr\u001b[0m\u001b[0;34m(\u001b[0m\u001b[0mself\u001b[0m\u001b[0;34m.\u001b[0m\u001b[0mfp\u001b[0m\u001b[0;34m.\u001b[0m\u001b[0mreadline\u001b[0m\u001b[0;34m(\u001b[0m\u001b[0m_MAXLINE\u001b[0m \u001b[0;34m+\u001b[0m \u001b[0;36m1\u001b[0m\u001b[0;34m)\u001b[0m\u001b[0;34m,\u001b[0m \u001b[0;34m\"iso-8859-1\"\u001b[0m\u001b[0;34m)\u001b[0m\u001b[0;34m\u001b[0m\u001b[0;34m\u001b[0m\u001b[0m\n\u001b[0m\u001b[1;32m    268\u001b[0m         \u001b[0;32mif\u001b[0m \u001b[0mlen\u001b[0m\u001b[0;34m(\u001b[0m\u001b[0mline\u001b[0m\u001b[0;34m)\u001b[0m \u001b[0;34m>\u001b[0m \u001b[0m_MAXLINE\u001b[0m\u001b[0;34m:\u001b[0m\u001b[0;34m\u001b[0m\u001b[0;34m\u001b[0m\u001b[0m\n\u001b[1;32m    269\u001b[0m             \u001b[0;32mraise\u001b[0m \u001b[0mLineTooLong\u001b[0m\u001b[0;34m(\u001b[0m\u001b[0;34m\"status line\"\u001b[0m\u001b[0;34m)\u001b[0m\u001b[0;34m\u001b[0m\u001b[0;34m\u001b[0m\u001b[0m\n",
      "\u001b[0;32m/opt/anaconda3/envs/PythonData/lib/python3.7/socket.py\u001b[0m in \u001b[0;36mreadinto\u001b[0;34m(self, b)\u001b[0m\n\u001b[1;32m    587\u001b[0m         \u001b[0;32mwhile\u001b[0m \u001b[0;32mTrue\u001b[0m\u001b[0;34m:\u001b[0m\u001b[0;34m\u001b[0m\u001b[0;34m\u001b[0m\u001b[0m\n\u001b[1;32m    588\u001b[0m             \u001b[0;32mtry\u001b[0m\u001b[0;34m:\u001b[0m\u001b[0;34m\u001b[0m\u001b[0;34m\u001b[0m\u001b[0m\n\u001b[0;32m--> 589\u001b[0;31m                 \u001b[0;32mreturn\u001b[0m \u001b[0mself\u001b[0m\u001b[0;34m.\u001b[0m\u001b[0m_sock\u001b[0m\u001b[0;34m.\u001b[0m\u001b[0mrecv_into\u001b[0m\u001b[0;34m(\u001b[0m\u001b[0mb\u001b[0m\u001b[0;34m)\u001b[0m\u001b[0;34m\u001b[0m\u001b[0;34m\u001b[0m\u001b[0m\n\u001b[0m\u001b[1;32m    590\u001b[0m             \u001b[0;32mexcept\u001b[0m \u001b[0mtimeout\u001b[0m\u001b[0;34m:\u001b[0m\u001b[0;34m\u001b[0m\u001b[0;34m\u001b[0m\u001b[0m\n\u001b[1;32m    591\u001b[0m                 \u001b[0mself\u001b[0m\u001b[0;34m.\u001b[0m\u001b[0m_timeout_occurred\u001b[0m \u001b[0;34m=\u001b[0m \u001b[0;32mTrue\u001b[0m\u001b[0;34m\u001b[0m\u001b[0;34m\u001b[0m\u001b[0m\n",
      "\u001b[0;31mKeyboardInterrupt\u001b[0m: "
     ]
    }
   ],
   "source": [
    "\n",
    "problem_games = []\n",
    "abberant_side_detail_games = []\n",
    "game_info_list = []\n",
    "counter = 1\n",
    "\n",
    "# zip the two \n",
    "zipped_list =list(zip(games_df[\"full_platform_name\"].tolist(),games_df[\"Name\"].tolist()))\n",
    "\n",
    "for platform, name in zipped_list:\n",
    "    game_scores = {}\n",
    "    x = re.compile(\"\\W|\\s\")\n",
    "    edited_game_title= re.sub(x,\"-\", name).lower().replace(\"--\",\"-\")\n",
    "    # periods at the end of the url will show up as a dash. This conditional is to get rid of it.\n",
    "    if edited_game_title[-1] == \"-\":\n",
    "        edited_game_title = edited_game_title[:-1]\n",
    "        print(f\"\\nGAME TITLE: {edited_game_title}\")\n",
    "    else:\n",
    "        print(f\"\\nGAME TITLE: {edited_game_title}\")\n",
    "    browser.visit(f\"https://www.metacritic.com/game/{platform}/{edited_game_title}\")\n",
    "    # fill in my search term to the Metacritic Browser and us \"\\n\" to press \"enter\" and initialize search\n",
    "    \n",
    "    game_scores[\"Name\"]=name\n",
    "    \n",
    "    html= browser.html\n",
    "    my_soup = soup(html, \"lxml\")\n",
    "    # Grabbing the Metascore\n",
    "    try:\n",
    "        metascore = my_soup.find(\"a\", class_=\"metascore_anchor\").get_text()\n",
    "        game_scores[\"metascore\"]= metascore\n",
    "    except:\n",
    "        problem_games.append(name)\n",
    "        print('THIS IS A PROBLEM CHILD')\n",
    "        continue\n",
    "    # Grabbing the Userscore\n",
    "    try:\n",
    "        userscore_first = my_soup.find(\"div\", class_=\"details side_details\")\n",
    "        user_score = userscore_first.select(\"div.metascore_w\")[0].get_text()\n",
    "        game_scores[\"user_score\"]= user_score\n",
    "    except:\n",
    "        problem_games.append(name)\n",
    "        print(\"THIS IS A PROBLEM CHILD\")\n",
    "        continue\n",
    "    # Grabbing the release data\n",
    "    try:\n",
    "        product_data = my_soup.find(\"div\",class_=\"product_data\")\n",
    "        release_data = product_data.find(\"li\", class_=\"summary_detail release_data\")\n",
    "        release_date = release_data.find(\"span\",class_=\"data\").get_text()\n",
    "        game_scores[\"release_date\"]=release_date\n",
    "    except:\n",
    "        problem_games.append(name)\n",
    "        print(\"THIS IS A PROBLEM CHILD\")\n",
    "        continue\n",
    "    # Grabbing the positive, mixed, and negative critic review numbers\n",
    "    try:\n",
    "        critic_reviews = []\n",
    "        positive_scores = my_soup.find(\"div\",class_=\"distribution_wrap\")\n",
    "        x = positive_scores.select(\"ol.score_counts.hover_none span.count\")\n",
    "        for i in x:\n",
    "            critic_reviews.append(i.get_text())\n",
    "        game_scores[\"positive_critics\"] = critic_reviews[0]\n",
    "        game_scores[\"neutral_critics\"]=critic_reviews[1]\n",
    "        game_scores[\"negative_critics\"]=critic_reviews[2]\n",
    "    except:\n",
    "        problem_games.append(name)\n",
    "        print('THIS IS A PROBLEM CHILD')\n",
    "        continue\n",
    "    # Grabbing the positive, mixed, and negative user review numbers\n",
    "    try:\n",
    "        user_reviews = []\n",
    "        user_scores = my_soup.find(\"div\",class_=\"user_reviews_module\")\n",
    "        drilling_down = user_scores.find(\"div\",class_=\"distribution_wrap\")\n",
    "        ordered_list_html = drilling_down.select(\"ol.score_counts.hover_none span.count\")\n",
    "        for i in ordered_list_html:\n",
    "            user_reviews.append(i.get_text())\n",
    "        game_scores[\"positive_users\"] = user_reviews[0]\n",
    "        game_scores[\"neutral_users\"]=user_reviews[1]\n",
    "        game_scores[\"negative_users\"]=user_reviews[2]\n",
    "    except:\n",
    "        problem_games.append(name)\n",
    "        print(\"THIS IS A PROBLEM CHILD\")\n",
    "        continue\n",
    "    # Grabbing side details\n",
    "    try:\n",
    "        side_details = my_soup.find_all(\"div\", class_=\"details side_details\")[1]\n",
    "        unordered_list = side_details.select(\"ul.summary_details li\")\n",
    "        developer = unordered_list[0].find(\"span\", class_=\"data\").get_text()\n",
    "        game_scores[\"developer\"]=developer\n",
    "        number_players = unordered_list[2].find(\"span\",class_=\"data\").get_text()\n",
    "        game_scores[\"number_players\"]=number_players\n",
    "        rating = unordered_list[4].find(\"span\", class_=\"data\").get_text()\n",
    "        game_scores[\"rating\"]=rating\n",
    "        game_info_list.append(game_scores)\n",
    "        print('SUCCESSFUL')\n",
    "        print(f\"This is the {counter}th game in the list.\")\n",
    "        counter+=1\n",
    "    except:\n",
    "        game_info_list.append(game_scores)\n",
    "        print(\"SUCCESS but no side details\")\n",
    "        continue\n",
    "        \n",
    "            \n",
    "        \n",
    "\n",
    "        \n",
    "        "
   ]
  },
  {
   "cell_type": "code",
   "execution_count": 46,
   "metadata": {},
   "outputs": [
    {
     "data": {
      "text/plain": [
       "[{'Name': 'Wii Sports',\n",
       "  'metascore': '\\n76\\n',\n",
       "  'user_score': '8.0',\n",
       "  'release_date': 'Nov 19, 2006',\n",
       "  'positive_critics': '31',\n",
       "  'neutral_critics': '20',\n",
       "  'negative_critics': '0',\n",
       "  'positive_users': '105',\n",
       "  'neutral_users': '40',\n",
       "  'negative_users': '3',\n",
       "  'developer': '\\n                    Nintendo                ',\n",
       "  'number_players': 'No Online Multiplayer',\n",
       "  'rating': 'E'},\n",
       " {'Name': 'Mario Kart Wii',\n",
       "  'metascore': '\\n82\\n',\n",
       "  'user_score': '8.4',\n",
       "  'release_date': 'Apr 27, 2008',\n",
       "  'positive_critics': '65',\n",
       "  'neutral_critics': '7',\n",
       "  'negative_critics': '1',\n",
       "  'positive_users': '235',\n",
       "  'neutral_users': '62',\n",
       "  'negative_users': '22',\n",
       "  'developer': '\\n                    Nintendo                ',\n",
       "  'number_players': 'Up to 12 ',\n",
       "  'rating': 'E'},\n",
       " {'Name': 'Wii Sports Resort',\n",
       "  'metascore': '\\n80\\n',\n",
       "  'user_score': '8.1',\n",
       "  'release_date': 'Jul 26, 2009',\n",
       "  'positive_critics': '60',\n",
       "  'neutral_critics': '13',\n",
       "  'negative_critics': '0',\n",
       "  'positive_users': '62',\n",
       "  'neutral_users': '15',\n",
       "  'negative_users': '4',\n",
       "  'developer': '\\n                    Nintendo                ',\n",
       "  'number_players': '1-4 ',\n",
       "  'rating': 'E'},\n",
       " {'Name': 'New Super Mario Bros.',\n",
       "  'metascore': '\\n89\\n',\n",
       "  'user_score': '8.5',\n",
       "  'release_date': 'May 15, 2006',\n",
       "  'positive_critics': '62',\n",
       "  'neutral_critics': '3',\n",
       "  'negative_critics': '0',\n",
       "  'positive_users': '137',\n",
       "  'neutral_users': '28',\n",
       "  'negative_users': '2',\n",
       "  'developer': '\\n                    Nintendo                ',\n",
       "  'number_players': 'No Online Multiplayer',\n",
       "  'rating': 'E'},\n",
       " {'Name': 'Wii Play',\n",
       "  'metascore': '\\n58\\n',\n",
       "  'user_score': '6.5',\n",
       "  'release_date': 'Feb 12, 2007',\n",
       "  'positive_critics': '2',\n",
       "  'neutral_critics': '31',\n",
       "  'negative_critics': '8',\n",
       "  'positive_users': '32',\n",
       "  'neutral_users': '27',\n",
       "  'negative_users': '15',\n",
       "  'developer': '\\n                    Nintendo                ',\n",
       "  'number_players': 'No Online Multiplayer',\n",
       "  'rating': 'E'},\n",
       " {'Name': 'New Super Mario Bros. Wii',\n",
       "  'metascore': '\\n87\\n',\n",
       "  'user_score': '8.3',\n",
       "  'release_date': 'Nov 15, 2009',\n",
       "  'positive_critics': '75',\n",
       "  'neutral_critics': '5',\n",
       "  'negative_critics': '0',\n",
       "  'positive_users': '130',\n",
       "  'neutral_users': '35',\n",
       "  'negative_users': '13',\n",
       "  'developer': '\\n                    Nintendo                ',\n",
       "  'number_players': 'No Online Multiplayer',\n",
       "  'rating': 'E'},\n",
       " {'Name': 'Mario Kart DS',\n",
       "  'metascore': '\\n91\\n',\n",
       "  'user_score': '8.7',\n",
       "  'release_date': 'Nov 14, 2005',\n",
       "  'positive_critics': '63',\n",
       "  'neutral_critics': '1',\n",
       "  'negative_critics': '0',\n",
       "  'positive_users': '177',\n",
       "  'neutral_users': '20',\n",
       "  'negative_users': '9',\n",
       "  'developer': '\\n                    Nintendo                ',\n",
       "  'number_players': 'No Online Multiplayer',\n",
       "  'rating': 'E'}]"
      ]
     },
     "execution_count": 46,
     "metadata": {},
     "output_type": "execute_result"
    }
   ],
   "source": [
    "game_info_list"
   ]
  },
  {
   "cell_type": "code",
   "execution_count": null,
   "metadata": {},
   "outputs": [],
   "source": [
    "# get developer, genre, number_players, rating, release_date"
   ]
  },
  {
   "cell_type": "code",
   "execution_count": 15,
   "metadata": {},
   "outputs": [
    {
     "data": {
      "text/plain": [
       "[{'Name': 'Wii Sports',\n",
       "  'metascore': '\\n76\\n',\n",
       "  'user_score': '8.0',\n",
       "  'positive_critics': '31',\n",
       "  'neutral_critics': '20',\n",
       "  'negative_critics': '0',\n",
       "  'positive_users': '105',\n",
       "  'neutral_users': '40',\n",
       "  'negative_users': '3'},\n",
       " {'Name': 'Mario Kart Wii',\n",
       "  'metascore': '\\n82\\n',\n",
       "  'user_score': '8.4',\n",
       "  'positive_critics': '65',\n",
       "  'neutral_critics': '7',\n",
       "  'negative_critics': '1',\n",
       "  'positive_users': '235',\n",
       "  'neutral_users': '62',\n",
       "  'negative_users': '22'},\n",
       " {'Name': 'Wii Sports Resort',\n",
       "  'metascore': '\\n80\\n',\n",
       "  'user_score': '8.1',\n",
       "  'positive_critics': '60',\n",
       "  'neutral_critics': '13',\n",
       "  'negative_critics': '0',\n",
       "  'positive_users': '62',\n",
       "  'neutral_users': '15',\n",
       "  'negative_users': '4'},\n",
       " {'Name': 'New Super Mario Bros.',\n",
       "  'metascore': '\\n89\\n',\n",
       "  'user_score': '8.5',\n",
       "  'positive_critics': '62',\n",
       "  'neutral_critics': '3',\n",
       "  'negative_critics': '0',\n",
       "  'positive_users': '137',\n",
       "  'neutral_users': '28',\n",
       "  'negative_users': '2'},\n",
       " {'Name': 'Wii Play',\n",
       "  'metascore': '\\n58\\n',\n",
       "  'user_score': '6.5',\n",
       "  'positive_critics': '2',\n",
       "  'neutral_critics': '31',\n",
       "  'negative_critics': '8',\n",
       "  'positive_users': '32',\n",
       "  'neutral_users': '27',\n",
       "  'negative_users': '15'},\n",
       " {'Name': 'New Super Mario Bros. Wii',\n",
       "  'metascore': '\\n87\\n',\n",
       "  'user_score': '8.3',\n",
       "  'positive_critics': '75',\n",
       "  'neutral_critics': '5',\n",
       "  'negative_critics': '0',\n",
       "  'positive_users': '130',\n",
       "  'neutral_users': '35',\n",
       "  'negative_users': '13'}]"
      ]
     },
     "execution_count": 15,
     "metadata": {},
     "output_type": "execute_result"
    }
   ],
   "source": [
    "game_info_list"
   ]
  },
  {
   "cell_type": "code",
   "execution_count": 41,
   "metadata": {},
   "outputs": [
    {
     "data": {
      "text/plain": [
       "{'developer': '\\n                    Nintendo                ',\n",
       " 'number_players': 'No Online Multiplayer',\n",
       " 'rating': 'E10+'}"
      ]
     },
     "execution_count": 41,
     "metadata": {},
     "output_type": "execute_result"
    }
   ],
   "source": [
    "\n",
    "browser.visit(\"https://www.metacritic.com/game/switch/the-legend-of-zelda-breath-of-the-wild\")\n",
    "html = browser.html\n",
    "my_soup = soup(html, \"lxml\")\n",
    "side_data_list = []\n",
    "side_details = my_soup.find_all(\"div\", class_=\"details side_details\")[1]\n",
    "unordered_list = side_details.select(\"ul.summary_details li\")\n",
    "developer = unordered_list[0].find(\"span\", class_=\"data\").get_text()\n",
    "game_scores[\"developer\"]=developer\n",
    "number_players = unordered_list[2].find(\"span\",class_=\"data\").get_text()\n",
    "game_scores[\"number_players\"]=number_players\n",
    "rating = unordered_list[4].find(\"span\", class_=\"data\").get_text()\n",
    "game_scores[\"rating\"]=rating\n",
    "\n",
    "game_scores"
   ]
  },
  {
   "cell_type": "code",
   "execution_count": null,
   "metadata": {},
   "outputs": [],
   "source": [
    "game_scores[\"developer\"]=side_data_list[0]\n",
    "game_scores[\"number_players\"]=side_data_list[2]\n",
    "game_scores[\"rating\"]=side_data_list[4]"
   ]
  },
  {
   "cell_type": "code",
   "execution_count": null,
   "metadata": {},
   "outputs": [],
   "source": [
    "for item in unordered_list:\n",
    "    mylabel = item.select_one(\"span.label\").get_text()\n",
    "    side_data_list.append(myinfo)\n",
    "side_data_list"
   ]
  },
  {
   "cell_type": "code",
   "execution_count": null,
   "metadata": {},
   "outputs": [],
   "source": [
    "developer = unordered_list[0]\n",
    "x = developer.select_one(\"span.data\").get_text()\n",
    "print(x)\n",
    ".select_one(\"span.data\").get_text()\n",
    "    side_data_list.append(mydata)\n",
    "side_data_list"
   ]
  }
 ],
 "metadata": {
  "kernelspec": {
   "display_name": "PythonData",
   "language": "python",
   "name": "pythondata"
  },
  "language_info": {
   "codemirror_mode": {
    "name": "ipython",
    "version": 3
   },
   "file_extension": ".py",
   "mimetype": "text/x-python",
   "name": "python",
   "nbconvert_exporter": "python",
   "pygments_lexer": "ipython3",
   "version": "3.7.7"
  }
 },
 "nbformat": 4,
 "nbformat_minor": 4
}
