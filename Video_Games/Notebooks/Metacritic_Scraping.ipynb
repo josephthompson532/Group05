{
 "cells": [
  {
   "cell_type": "code",
   "execution_count": 59,
   "metadata": {},
   "outputs": [],
   "source": [
    "import pandas as pd\n",
    "from splinter import Browser\n",
    "from bs4 import BeautifulSoup as soup\n",
    "import lxml\n",
    "from bs4 import NavigableString"
   ]
  },
  {
   "cell_type": "code",
   "execution_count": 60,
   "metadata": {},
   "outputs": [
    {
     "name": "stdout",
     "output_type": "stream",
     "text": [
      "/usr/local/bin/chromedriver\r\n"
     ]
    }
   ],
   "source": [
    "!which chromedriver"
   ]
  },
  {
   "cell_type": "code",
   "execution_count": 61,
   "metadata": {},
   "outputs": [],
   "source": [
    "browser = Browser(\"chrome\", executable_path=\"/usr/local/bin/chromedriver\", headless=True)"
   ]
  },
  {
   "cell_type": "code",
   "execution_count": 62,
   "metadata": {},
   "outputs": [],
   "source": [
    "games_df = pd.read_csv(\"../Resources/vgsales.csv.zip\")\n",
    "list_of_games = games_df[\"Name\"].values.tolist()"
   ]
  },
  {
   "cell_type": "code",
   "execution_count": 11,
   "metadata": {},
   "outputs": [],
   "source": [
    "game_scores = {}\n",
    "problem_games = []\n",
    "\n",
    "for game in list_of_games:\n",
    "    browser.visit(\"https://www.metacritic.com/\")\n",
    "    # fill in my search term to the Metacritic Browser and us \"\\n\" to press \"enter\" and initialize search\n",
    "    browser.fill(\"search_term\", game + \"\\n\")\n",
    "    html= browser.html\n",
    "    my_soup = soup(html, \"lxml\")\n",
    "    try:\n",
    "        metascore = my_soup.find(\"a\", class_=\"metascore_anchor\").get_text()\n",
    "        game_scores[game]= metascore\n",
    "        print(\"SUCCESSFUL\")\n",
    "    except:\n",
    "        problem_games.append(game)\n",
    "        print(\"THIS IS A PROBLEM CHILD\")"
   ]
  },
  {
   "cell_type": "code",
   "execution_count": 49,
   "metadata": {},
   "outputs": [],
   "source": [
    "my_df = pd.DataFrame(game_scores, columns=[\"Name\",\"Metascore\"])"
   ]
  },
  {
   "cell_type": "code",
   "execution_count": 50,
   "metadata": {},
   "outputs": [
    {
     "data": {
      "text/plain": [
       "'\\n97\\n'"
      ]
     },
     "execution_count": 50,
     "metadata": {},
     "output_type": "execute_result"
    }
   ],
   "source": []
  },
  {
   "cell_type": "code",
   "execution_count": null,
   "metadata": {},
   "outputs": [],
   "source": []
  }
 ],
 "metadata": {
  "kernelspec": {
   "display_name": "PythonData",
   "language": "python",
   "name": "pythondata"
  },
  "language_info": {
   "codemirror_mode": {
    "name": "ipython",
    "version": 3
   },
   "file_extension": ".py",
   "mimetype": "text/x-python",
   "name": "python",
   "nbconvert_exporter": "python",
   "pygments_lexer": "ipython3",
   "version": "3.7.7"
  }
 },
 "nbformat": 4,
 "nbformat_minor": 4
}
